{
  "nbformat": 4,
  "nbformat_minor": 0,
  "metadata": {
    "colab": {
      "provenance": []
    },
    "kernelspec": {
      "name": "python3",
      "display_name": "Python 3"
    },
    "language_info": {
      "name": "python"
    }
  },
  "cells": [
    {
      "cell_type": "code",
      "execution_count": null,
      "metadata": {
        "colab": {
          "base_uri": "https://localhost:8080/"
        },
        "id": "Mw8R_DfOqGBN",
        "outputId": "1901f18c-0f85-4467-ac48-a86308399292"
      },
      "outputs": [
        {
          "output_type": "stream",
          "name": "stdout",
          "text": [
            "Looking in indexes: https://pypi.org/simple, https://us-python.pkg.dev/colab-wheels/public/simple/\n",
            "Requirement already satisfied: tensorflow-datasets in /usr/local/lib/python3.8/dist-packages (4.8.1)\n",
            "Requirement already satisfied: toml in /usr/local/lib/python3.8/dist-packages (from tensorflow-datasets) (0.10.2)\n",
            "Requirement already satisfied: etils[enp,epath]>=0.9.0 in /usr/local/lib/python3.8/dist-packages (from tensorflow-datasets) (1.0.0)\n",
            "Requirement already satisfied: dill in /usr/local/lib/python3.8/dist-packages (from tensorflow-datasets) (0.3.6)\n",
            "Requirement already satisfied: protobuf>=3.12.2 in /usr/local/lib/python3.8/dist-packages (from tensorflow-datasets) (3.19.6)\n",
            "Requirement already satisfied: click in /usr/local/lib/python3.8/dist-packages (from tensorflow-datasets) (7.1.2)\n",
            "Requirement already satisfied: psutil in /usr/local/lib/python3.8/dist-packages (from tensorflow-datasets) (5.4.8)\n",
            "Requirement already satisfied: requests>=2.19.0 in /usr/local/lib/python3.8/dist-packages (from tensorflow-datasets) (2.25.1)\n",
            "Requirement already satisfied: six in /usr/local/lib/python3.8/dist-packages (from tensorflow-datasets) (1.15.0)\n",
            "Requirement already satisfied: absl-py in /usr/local/lib/python3.8/dist-packages (from tensorflow-datasets) (1.3.0)\n",
            "Requirement already satisfied: numpy in /usr/local/lib/python3.8/dist-packages (from tensorflow-datasets) (1.21.6)\n",
            "Requirement already satisfied: termcolor in /usr/local/lib/python3.8/dist-packages (from tensorflow-datasets) (2.2.0)\n",
            "Requirement already satisfied: tensorflow-metadata in /usr/local/lib/python3.8/dist-packages (from tensorflow-datasets) (1.12.0)\n",
            "Requirement already satisfied: dm-tree in /usr/local/lib/python3.8/dist-packages (from tensorflow-datasets) (0.1.8)\n",
            "Requirement already satisfied: tqdm in /usr/local/lib/python3.8/dist-packages (from tensorflow-datasets) (4.64.1)\n",
            "Requirement already satisfied: importlib-resources in /usr/local/lib/python3.8/dist-packages (from tensorflow-datasets) (5.10.2)\n",
            "Requirement already satisfied: promise in /usr/local/lib/python3.8/dist-packages (from tensorflow-datasets) (2.3)\n",
            "Requirement already satisfied: zipp in /usr/local/lib/python3.8/dist-packages (from etils[enp,epath]>=0.9.0->tensorflow-datasets) (3.11.0)\n",
            "Requirement already satisfied: typing_extensions in /usr/local/lib/python3.8/dist-packages (from etils[enp,epath]>=0.9.0->tensorflow-datasets) (4.4.0)\n",
            "Requirement already satisfied: certifi>=2017.4.17 in /usr/local/lib/python3.8/dist-packages (from requests>=2.19.0->tensorflow-datasets) (2022.12.7)\n",
            "Requirement already satisfied: urllib3<1.27,>=1.21.1 in /usr/local/lib/python3.8/dist-packages (from requests>=2.19.0->tensorflow-datasets) (1.24.3)\n",
            "Requirement already satisfied: idna<3,>=2.5 in /usr/local/lib/python3.8/dist-packages (from requests>=2.19.0->tensorflow-datasets) (2.10)\n",
            "Requirement already satisfied: chardet<5,>=3.0.2 in /usr/local/lib/python3.8/dist-packages (from requests>=2.19.0->tensorflow-datasets) (4.0.0)\n",
            "Requirement already satisfied: googleapis-common-protos<2,>=1.52.0 in /usr/local/lib/python3.8/dist-packages (from tensorflow-metadata->tensorflow-datasets) (1.58.0)\n"
          ]
        }
      ],
      "source": [
        "!pip install tensorflow-datasets\n",
        "import pandas as pd\n",
        "import numpy as np\n",
        "import tensorflow as tf\n",
        "import matplotlib.pyplot as plt\n",
        "import tensorflow_datasets as tfds\n",
        "import os\n",
        "\n",
        "from tensorflow.keras.preprocessing.text import one_hot\n",
        "from tensorflow.keras.preprocessing.sequence import pad_sequences\n",
        "from tensorflow.keras.layers import Embedding, Dense, Flatten\n",
        "from tensorflow.keras.callbacks import EarlyStopping\n",
        "from tensorflow.keras.models import Sequential\n",
        "from os.path import exists"
      ]
    },
    {
      "cell_type": "code",
      "source": [
        "TEST_PATH = \"valid-data.tsv\"\n",
        "TRAIN_PATH = \"train-data.tsv\"\n",
        "\n",
        "CLASS = \"class\"\n",
        "MESSAGE = \"message\"\n",
        "HAM = \"ham\"\n",
        "SPAM = \"spam\"\n",
        "\n",
        "columns = [CLASS, MESSAGE]"
      ],
      "metadata": {
        "id": "EprXbKYGrKiJ"
      },
      "execution_count": null,
      "outputs": []
    },
    {
      "cell_type": "code",
      "source": [
        "if not exists(TRAIN_PATH):\n",
        "  !wget https://cdn.freecodecamp.org/project-data/sms/train-data.tsv\n",
        "\n",
        "if not exists(TEST_PATH):\n",
        "  !wget https://cdn.freecodecamp.org/project-data/sms/valid-data.tsv\n"
      ],
      "metadata": {
        "id": "QhJtwII0rCWI"
      },
      "execution_count": null,
      "outputs": []
    },
    {
      "cell_type": "code",
      "source": [
        "train_df = pd.read_csv(TRAIN_PATH, sep=\"\\t\", names=columns)\n",
        "train_df.head()"
      ],
      "metadata": {
        "colab": {
          "base_uri": "https://localhost:8080/",
          "height": 206
        },
        "id": "i7C4BngBrk-X",
        "outputId": "2685883a-c7b2-461e-9bb5-5f3722490ae8"
      },
      "execution_count": null,
      "outputs": [
        {
          "output_type": "execute_result",
          "data": {
            "text/plain": [
              "  class                                            message\n",
              "0   ham  ahhhh...just woken up!had a bad dream about u ...\n",
              "1   ham                           you can never do nothing\n",
              "2   ham  now u sound like manky scouse boy steve,like! ...\n",
              "3   ham  mum say we wan to go then go... then she can s...\n",
              "4   ham  never y lei... i v lazy... got wat? dat day ü ..."
            ],
            "text/html": [
              "\n",
              "  <div id=\"df-69b6488a-b874-42af-a8c7-7b227c83c2a2\">\n",
              "    <div class=\"colab-df-container\">\n",
              "      <div>\n",
              "<style scoped>\n",
              "    .dataframe tbody tr th:only-of-type {\n",
              "        vertical-align: middle;\n",
              "    }\n",
              "\n",
              "    .dataframe tbody tr th {\n",
              "        vertical-align: top;\n",
              "    }\n",
              "\n",
              "    .dataframe thead th {\n",
              "        text-align: right;\n",
              "    }\n",
              "</style>\n",
              "<table border=\"1\" class=\"dataframe\">\n",
              "  <thead>\n",
              "    <tr style=\"text-align: right;\">\n",
              "      <th></th>\n",
              "      <th>class</th>\n",
              "      <th>message</th>\n",
              "    </tr>\n",
              "  </thead>\n",
              "  <tbody>\n",
              "    <tr>\n",
              "      <th>0</th>\n",
              "      <td>ham</td>\n",
              "      <td>ahhhh...just woken up!had a bad dream about u ...</td>\n",
              "    </tr>\n",
              "    <tr>\n",
              "      <th>1</th>\n",
              "      <td>ham</td>\n",
              "      <td>you can never do nothing</td>\n",
              "    </tr>\n",
              "    <tr>\n",
              "      <th>2</th>\n",
              "      <td>ham</td>\n",
              "      <td>now u sound like manky scouse boy steve,like! ...</td>\n",
              "    </tr>\n",
              "    <tr>\n",
              "      <th>3</th>\n",
              "      <td>ham</td>\n",
              "      <td>mum say we wan to go then go... then she can s...</td>\n",
              "    </tr>\n",
              "    <tr>\n",
              "      <th>4</th>\n",
              "      <td>ham</td>\n",
              "      <td>never y lei... i v lazy... got wat? dat day ü ...</td>\n",
              "    </tr>\n",
              "  </tbody>\n",
              "</table>\n",
              "</div>\n",
              "      <button class=\"colab-df-convert\" onclick=\"convertToInteractive('df-69b6488a-b874-42af-a8c7-7b227c83c2a2')\"\n",
              "              title=\"Convert this dataframe to an interactive table.\"\n",
              "              style=\"display:none;\">\n",
              "        \n",
              "  <svg xmlns=\"http://www.w3.org/2000/svg\" height=\"24px\"viewBox=\"0 0 24 24\"\n",
              "       width=\"24px\">\n",
              "    <path d=\"M0 0h24v24H0V0z\" fill=\"none\"/>\n",
              "    <path d=\"M18.56 5.44l.94 2.06.94-2.06 2.06-.94-2.06-.94-.94-2.06-.94 2.06-2.06.94zm-11 1L8.5 8.5l.94-2.06 2.06-.94-2.06-.94L8.5 2.5l-.94 2.06-2.06.94zm10 10l.94 2.06.94-2.06 2.06-.94-2.06-.94-.94-2.06-.94 2.06-2.06.94z\"/><path d=\"M17.41 7.96l-1.37-1.37c-.4-.4-.92-.59-1.43-.59-.52 0-1.04.2-1.43.59L10.3 9.45l-7.72 7.72c-.78.78-.78 2.05 0 2.83L4 21.41c.39.39.9.59 1.41.59.51 0 1.02-.2 1.41-.59l7.78-7.78 2.81-2.81c.8-.78.8-2.07 0-2.86zM5.41 20L4 18.59l7.72-7.72 1.47 1.35L5.41 20z\"/>\n",
              "  </svg>\n",
              "      </button>\n",
              "      \n",
              "  <style>\n",
              "    .colab-df-container {\n",
              "      display:flex;\n",
              "      flex-wrap:wrap;\n",
              "      gap: 12px;\n",
              "    }\n",
              "\n",
              "    .colab-df-convert {\n",
              "      background-color: #E8F0FE;\n",
              "      border: none;\n",
              "      border-radius: 50%;\n",
              "      cursor: pointer;\n",
              "      display: none;\n",
              "      fill: #1967D2;\n",
              "      height: 32px;\n",
              "      padding: 0 0 0 0;\n",
              "      width: 32px;\n",
              "    }\n",
              "\n",
              "    .colab-df-convert:hover {\n",
              "      background-color: #E2EBFA;\n",
              "      box-shadow: 0px 1px 2px rgba(60, 64, 67, 0.3), 0px 1px 3px 1px rgba(60, 64, 67, 0.15);\n",
              "      fill: #174EA6;\n",
              "    }\n",
              "\n",
              "    [theme=dark] .colab-df-convert {\n",
              "      background-color: #3B4455;\n",
              "      fill: #D2E3FC;\n",
              "    }\n",
              "\n",
              "    [theme=dark] .colab-df-convert:hover {\n",
              "      background-color: #434B5C;\n",
              "      box-shadow: 0px 1px 3px 1px rgba(0, 0, 0, 0.15);\n",
              "      filter: drop-shadow(0px 1px 2px rgba(0, 0, 0, 0.3));\n",
              "      fill: #FFFFFF;\n",
              "    }\n",
              "  </style>\n",
              "\n",
              "      <script>\n",
              "        const buttonEl =\n",
              "          document.querySelector('#df-69b6488a-b874-42af-a8c7-7b227c83c2a2 button.colab-df-convert');\n",
              "        buttonEl.style.display =\n",
              "          google.colab.kernel.accessAllowed ? 'block' : 'none';\n",
              "\n",
              "        async function convertToInteractive(key) {\n",
              "          const element = document.querySelector('#df-69b6488a-b874-42af-a8c7-7b227c83c2a2');\n",
              "          const dataTable =\n",
              "            await google.colab.kernel.invokeFunction('convertToInteractive',\n",
              "                                                     [key], {});\n",
              "          if (!dataTable) return;\n",
              "\n",
              "          const docLinkHtml = 'Like what you see? Visit the ' +\n",
              "            '<a target=\"_blank\" href=https://colab.research.google.com/notebooks/data_table.ipynb>data table notebook</a>'\n",
              "            + ' to learn more about interactive tables.';\n",
              "          element.innerHTML = '';\n",
              "          dataTable['output_type'] = 'display_data';\n",
              "          await google.colab.output.renderOutput(dataTable, element);\n",
              "          const docLink = document.createElement('div');\n",
              "          docLink.innerHTML = docLinkHtml;\n",
              "          element.appendChild(docLink);\n",
              "        }\n",
              "      </script>\n",
              "    </div>\n",
              "  </div>\n",
              "  "
            ]
          },
          "metadata": {},
          "execution_count": 46
        }
      ]
    },
    {
      "cell_type": "code",
      "source": [
        "test_df = pd.read_csv(TEST_PATH, sep=\"\\t\", names=columns)\n",
        "test_df.head()"
      ],
      "metadata": {
        "colab": {
          "base_uri": "https://localhost:8080/",
          "height": 206
        },
        "id": "W9XubcWEsg5E",
        "outputId": "8e84066a-b806-4c2e-e461-423057b097ec"
      },
      "execution_count": null,
      "outputs": [
        {
          "output_type": "execute_result",
          "data": {
            "text/plain": [
              "  class                                            message\n",
              "0   ham  i am in hospital da. . i will return home in e...\n",
              "1   ham         not much, just some textin'. how bout you?\n",
              "2   ham  i probably won't eat at all today. i think i'm...\n",
              "3   ham  don‘t give a flying monkeys wot they think and...\n",
              "4   ham                                who are you seeing?"
            ],
            "text/html": [
              "\n",
              "  <div id=\"df-3f9248a7-8529-42f4-ad31-f1872ea217b3\">\n",
              "    <div class=\"colab-df-container\">\n",
              "      <div>\n",
              "<style scoped>\n",
              "    .dataframe tbody tr th:only-of-type {\n",
              "        vertical-align: middle;\n",
              "    }\n",
              "\n",
              "    .dataframe tbody tr th {\n",
              "        vertical-align: top;\n",
              "    }\n",
              "\n",
              "    .dataframe thead th {\n",
              "        text-align: right;\n",
              "    }\n",
              "</style>\n",
              "<table border=\"1\" class=\"dataframe\">\n",
              "  <thead>\n",
              "    <tr style=\"text-align: right;\">\n",
              "      <th></th>\n",
              "      <th>class</th>\n",
              "      <th>message</th>\n",
              "    </tr>\n",
              "  </thead>\n",
              "  <tbody>\n",
              "    <tr>\n",
              "      <th>0</th>\n",
              "      <td>ham</td>\n",
              "      <td>i am in hospital da. . i will return home in e...</td>\n",
              "    </tr>\n",
              "    <tr>\n",
              "      <th>1</th>\n",
              "      <td>ham</td>\n",
              "      <td>not much, just some textin'. how bout you?</td>\n",
              "    </tr>\n",
              "    <tr>\n",
              "      <th>2</th>\n",
              "      <td>ham</td>\n",
              "      <td>i probably won't eat at all today. i think i'm...</td>\n",
              "    </tr>\n",
              "    <tr>\n",
              "      <th>3</th>\n",
              "      <td>ham</td>\n",
              "      <td>don‘t give a flying monkeys wot they think and...</td>\n",
              "    </tr>\n",
              "    <tr>\n",
              "      <th>4</th>\n",
              "      <td>ham</td>\n",
              "      <td>who are you seeing?</td>\n",
              "    </tr>\n",
              "  </tbody>\n",
              "</table>\n",
              "</div>\n",
              "      <button class=\"colab-df-convert\" onclick=\"convertToInteractive('df-3f9248a7-8529-42f4-ad31-f1872ea217b3')\"\n",
              "              title=\"Convert this dataframe to an interactive table.\"\n",
              "              style=\"display:none;\">\n",
              "        \n",
              "  <svg xmlns=\"http://www.w3.org/2000/svg\" height=\"24px\"viewBox=\"0 0 24 24\"\n",
              "       width=\"24px\">\n",
              "    <path d=\"M0 0h24v24H0V0z\" fill=\"none\"/>\n",
              "    <path d=\"M18.56 5.44l.94 2.06.94-2.06 2.06-.94-2.06-.94-.94-2.06-.94 2.06-2.06.94zm-11 1L8.5 8.5l.94-2.06 2.06-.94-2.06-.94L8.5 2.5l-.94 2.06-2.06.94zm10 10l.94 2.06.94-2.06 2.06-.94-2.06-.94-.94-2.06-.94 2.06-2.06.94z\"/><path d=\"M17.41 7.96l-1.37-1.37c-.4-.4-.92-.59-1.43-.59-.52 0-1.04.2-1.43.59L10.3 9.45l-7.72 7.72c-.78.78-.78 2.05 0 2.83L4 21.41c.39.39.9.59 1.41.59.51 0 1.02-.2 1.41-.59l7.78-7.78 2.81-2.81c.8-.78.8-2.07 0-2.86zM5.41 20L4 18.59l7.72-7.72 1.47 1.35L5.41 20z\"/>\n",
              "  </svg>\n",
              "      </button>\n",
              "      \n",
              "  <style>\n",
              "    .colab-df-container {\n",
              "      display:flex;\n",
              "      flex-wrap:wrap;\n",
              "      gap: 12px;\n",
              "    }\n",
              "\n",
              "    .colab-df-convert {\n",
              "      background-color: #E8F0FE;\n",
              "      border: none;\n",
              "      border-radius: 50%;\n",
              "      cursor: pointer;\n",
              "      display: none;\n",
              "      fill: #1967D2;\n",
              "      height: 32px;\n",
              "      padding: 0 0 0 0;\n",
              "      width: 32px;\n",
              "    }\n",
              "\n",
              "    .colab-df-convert:hover {\n",
              "      background-color: #E2EBFA;\n",
              "      box-shadow: 0px 1px 2px rgba(60, 64, 67, 0.3), 0px 1px 3px 1px rgba(60, 64, 67, 0.15);\n",
              "      fill: #174EA6;\n",
              "    }\n",
              "\n",
              "    [theme=dark] .colab-df-convert {\n",
              "      background-color: #3B4455;\n",
              "      fill: #D2E3FC;\n",
              "    }\n",
              "\n",
              "    [theme=dark] .colab-df-convert:hover {\n",
              "      background-color: #434B5C;\n",
              "      box-shadow: 0px 1px 3px 1px rgba(0, 0, 0, 0.15);\n",
              "      filter: drop-shadow(0px 1px 2px rgba(0, 0, 0, 0.3));\n",
              "      fill: #FFFFFF;\n",
              "    }\n",
              "  </style>\n",
              "\n",
              "      <script>\n",
              "        const buttonEl =\n",
              "          document.querySelector('#df-3f9248a7-8529-42f4-ad31-f1872ea217b3 button.colab-df-convert');\n",
              "        buttonEl.style.display =\n",
              "          google.colab.kernel.accessAllowed ? 'block' : 'none';\n",
              "\n",
              "        async function convertToInteractive(key) {\n",
              "          const element = document.querySelector('#df-3f9248a7-8529-42f4-ad31-f1872ea217b3');\n",
              "          const dataTable =\n",
              "            await google.colab.kernel.invokeFunction('convertToInteractive',\n",
              "                                                     [key], {});\n",
              "          if (!dataTable) return;\n",
              "\n",
              "          const docLinkHtml = 'Like what you see? Visit the ' +\n",
              "            '<a target=\"_blank\" href=https://colab.research.google.com/notebooks/data_table.ipynb>data table notebook</a>'\n",
              "            + ' to learn more about interactive tables.';\n",
              "          element.innerHTML = '';\n",
              "          dataTable['output_type'] = 'display_data';\n",
              "          await google.colab.output.renderOutput(dataTable, element);\n",
              "          const docLink = document.createElement('div');\n",
              "          docLink.innerHTML = docLinkHtml;\n",
              "          element.appendChild(docLink);\n",
              "        }\n",
              "      </script>\n",
              "    </div>\n",
              "  </div>\n",
              "  "
            ]
          },
          "metadata": {},
          "execution_count": 47
        }
      ]
    },
    {
      "cell_type": "code",
      "source": [
        "train_msg = train_df[MESSAGE].values.tolist()\n",
        "train_label = np.array([0 if x == HAM else 1 for x in train_df[CLASS].values.tolist()])\n",
        "\n",
        "test_msg = test_df[MESSAGE].values.tolist()\n",
        "test_label = np.array([0 if x == HAM else 1 for x in test_df[CLASS].values.tolist()])"
      ],
      "metadata": {
        "id": "9Va0Icvmsv4s"
      },
      "execution_count": null,
      "outputs": []
    },
    {
      "cell_type": "code",
      "source": [
        "vocabulary_dict = {}\n",
        "\n",
        "for msg in train_msg:\n",
        "  for voc in msg.split():\n",
        "    if voc not in vocabulary_dict:\n",
        "      vocabulary_dict[voc] = 1\n",
        "    else:\n",
        "      vocabulary_dict[voc] += 1"
      ],
      "metadata": {
        "id": "prpy8ReEtmsJ"
      },
      "execution_count": null,
      "outputs": []
    },
    {
      "cell_type": "code",
      "source": [
        "VOC_SIZE = len(vocabulary_dict) \n",
        "MAX_LEN = len(max(train_msg, key=lambda p: len(p.split())).split())"
      ],
      "metadata": {
        "id": "lafbB8-st9ht"
      },
      "execution_count": null,
      "outputs": []
    },
    {
      "cell_type": "markdown",
      "source": [],
      "metadata": {
        "id": "upIOVCnMv5XU"
      }
    },
    {
      "cell_type": "code",
      "source": [
        "enc_train_msg = [one_hot(d, VOC_SIZE) for d in train_msg]\n",
        "enc_test_msg = [one_hot(d, VOC_SIZE) for d in test_msg]\n",
        "padded_train_msg = pad_sequences(enc_train_msg, maxlen=MAX_LEN, padding='post')\n",
        "padded_test_msg = pad_sequences(enc_test_msg, maxlen=MAX_LEN, padding='post')"
      ],
      "metadata": {
        "id": "HXfGT-CnuNge"
      },
      "execution_count": null,
      "outputs": []
    },
    {
      "cell_type": "code",
      "source": [
        "\n",
        "model = Sequential()\n",
        "embedding_layer = Embedding(VOC_SIZE, 100, input_length=MAX_LEN)\n",
        "model.add(embedding_layer)\n",
        "model.add(Flatten())\n",
        "model.add(Dense(1, activation='sigmoid'))\n",
        "\n",
        "model.compile(optimizer='adam',\n",
        "              loss='binary_crossentropy',\n",
        "              metrics=['acc'])\n",
        "\n",
        "es = EarlyStopping(monitor='val_acc',\n",
        "                   min_delta=1e-4,\n",
        "                   patience=25,\n",
        "                   verbose=1,\n",
        "                   mode='max',\n",
        "                   restore_best_weights=True)\n",
        "\n",
        "model.fit(padded_train_msg,\n",
        "          train_label,\n",
        "          validation_data=(padded_test_msg, test_label),\n",
        "          callbacks=[es], epochs=1000,\n",
        "          verbose=2)\n",
        "     \n",
        "# model.compile(optimizer=\"adam\", loss=\"binary_crossentropy\",\n",
        "#               metrics=[\"acc\"])\n",
        "# es = EarlyStopping(monitor=\"val_acc\",\n",
        "#                    min_delta=1e-4,\n",
        "#                    patience=25,\n",
        "#                    verbose=1,\n",
        "#                    mode='max',\n",
        "#                    restore_best_weights=True)\n",
        "\n",
        "# model.fit(padded_train_msg,\n",
        "#           train_label,\n",
        "#           validation_data=(padded_test_msg, test_label),\n",
        "#           callbacks=[es],\n",
        "#           epochs=1100,\n",
        "#           verbose=2)"
      ],
      "metadata": {
        "colab": {
          "base_uri": "https://localhost:8080/"
        },
        "id": "pmg6GGX4vBrZ",
        "outputId": "0459cce4-8bf7-43b0-f23d-7602ba5c8b2c"
      },
      "execution_count": null,
      "outputs": [
        {
          "output_type": "stream",
          "name": "stdout",
          "text": [
            "Epoch 1/1000\n",
            "131/131 - 2s - loss: 0.2324 - acc: 0.9141 - val_loss: 0.0980 - val_acc: 0.9777 - 2s/epoch - 13ms/step\n",
            "Epoch 2/1000\n",
            "131/131 - 1s - loss: 0.0542 - acc: 0.9840 - val_loss: 0.0568 - val_acc: 0.9835 - 1s/epoch - 8ms/step\n",
            "Epoch 3/1000\n",
            "131/131 - 1s - loss: 0.0263 - acc: 0.9928 - val_loss: 0.0442 - val_acc: 0.9864 - 946ms/epoch - 7ms/step\n",
            "Epoch 4/1000\n",
            "131/131 - 1s - loss: 0.0132 - acc: 0.9966 - val_loss: 0.0419 - val_acc: 0.9849 - 1s/epoch - 9ms/step\n",
            "Epoch 5/1000\n",
            "131/131 - 1s - loss: 0.0076 - acc: 0.9988 - val_loss: 0.0403 - val_acc: 0.9856 - 969ms/epoch - 7ms/step\n",
            "Epoch 6/1000\n",
            "131/131 - 1s - loss: 0.0048 - acc: 0.9995 - val_loss: 0.0406 - val_acc: 0.9864 - 1s/epoch - 8ms/step\n",
            "Epoch 7/1000\n",
            "131/131 - 1s - loss: 0.0033 - acc: 0.9998 - val_loss: 0.0412 - val_acc: 0.9864 - 1s/epoch - 8ms/step\n",
            "Epoch 8/1000\n",
            "131/131 - 1s - loss: 0.0025 - acc: 0.9998 - val_loss: 0.0422 - val_acc: 0.9856 - 1s/epoch - 11ms/step\n",
            "Epoch 9/1000\n",
            "131/131 - 1s - loss: 0.0019 - acc: 0.9998 - val_loss: 0.0399 - val_acc: 0.9864 - 1s/epoch - 9ms/step\n",
            "Epoch 10/1000\n",
            "131/131 - 1s - loss: 0.0016 - acc: 0.9998 - val_loss: 0.0436 - val_acc: 0.9864 - 1s/epoch - 10ms/step\n",
            "Epoch 11/1000\n",
            "131/131 - 1s - loss: 0.0012 - acc: 0.9998 - val_loss: 0.0437 - val_acc: 0.9864 - 1s/epoch - 10ms/step\n",
            "Epoch 12/1000\n",
            "131/131 - 1s - loss: 9.2596e-04 - acc: 0.9998 - val_loss: 0.0456 - val_acc: 0.9871 - 1s/epoch - 8ms/step\n",
            "Epoch 13/1000\n",
            "131/131 - 1s - loss: 7.0368e-04 - acc: 0.9998 - val_loss: 0.0408 - val_acc: 0.9871 - 1s/epoch - 11ms/step\n",
            "Epoch 14/1000\n",
            "131/131 - 1s - loss: 5.7748e-04 - acc: 1.0000 - val_loss: 0.0422 - val_acc: 0.9856 - 1s/epoch - 8ms/step\n",
            "Epoch 15/1000\n",
            "131/131 - 1s - loss: 4.3589e-04 - acc: 1.0000 - val_loss: 0.0463 - val_acc: 0.9864 - 970ms/epoch - 7ms/step\n",
            "Epoch 16/1000\n",
            "131/131 - 1s - loss: 3.6775e-04 - acc: 1.0000 - val_loss: 0.0455 - val_acc: 0.9856 - 946ms/epoch - 7ms/step\n",
            "Epoch 17/1000\n",
            "131/131 - 1s - loss: 3.0040e-04 - acc: 1.0000 - val_loss: 0.0485 - val_acc: 0.9871 - 992ms/epoch - 8ms/step\n",
            "Epoch 18/1000\n",
            "131/131 - 1s - loss: 2.6386e-04 - acc: 1.0000 - val_loss: 0.0467 - val_acc: 0.9856 - 994ms/epoch - 8ms/step\n",
            "Epoch 19/1000\n",
            "131/131 - 1s - loss: 2.2751e-04 - acc: 1.0000 - val_loss: 0.0468 - val_acc: 0.9856 - 964ms/epoch - 7ms/step\n",
            "Epoch 20/1000\n",
            "131/131 - 1s - loss: 1.9141e-04 - acc: 1.0000 - val_loss: 0.0487 - val_acc: 0.9864 - 972ms/epoch - 7ms/step\n",
            "Epoch 21/1000\n",
            "131/131 - 1s - loss: 1.6886e-04 - acc: 1.0000 - val_loss: 0.0480 - val_acc: 0.9856 - 1s/epoch - 8ms/step\n",
            "Epoch 22/1000\n",
            "131/131 - 2s - loss: 1.4776e-04 - acc: 1.0000 - val_loss: 0.0500 - val_acc: 0.9871 - 2s/epoch - 12ms/step\n",
            "Epoch 23/1000\n",
            "131/131 - 1s - loss: 1.3152e-04 - acc: 1.0000 - val_loss: 0.0510 - val_acc: 0.9871 - 1s/epoch - 10ms/step\n",
            "Epoch 24/1000\n",
            "131/131 - 1s - loss: 1.1676e-04 - acc: 1.0000 - val_loss: 0.0502 - val_acc: 0.9856 - 997ms/epoch - 8ms/step\n",
            "Epoch 25/1000\n",
            "131/131 - 1s - loss: 1.0277e-04 - acc: 1.0000 - val_loss: 0.0518 - val_acc: 0.9871 - 1s/epoch - 8ms/step\n",
            "Epoch 26/1000\n",
            "131/131 - 1s - loss: 9.2137e-05 - acc: 1.0000 - val_loss: 0.0522 - val_acc: 0.9871 - 1s/epoch - 10ms/step\n",
            "Epoch 27/1000\n",
            "131/131 - 1s - loss: 8.2459e-05 - acc: 1.0000 - val_loss: 0.0536 - val_acc: 0.9864 - 1s/epoch - 9ms/step\n",
            "Epoch 28/1000\n",
            "131/131 - 1s - loss: 7.5416e-05 - acc: 1.0000 - val_loss: 0.0523 - val_acc: 0.9864 - 1s/epoch - 9ms/step\n",
            "Epoch 29/1000\n",
            "131/131 - 1s - loss: 6.7607e-05 - acc: 1.0000 - val_loss: 0.0524 - val_acc: 0.9864 - 1s/epoch - 9ms/step\n",
            "Epoch 30/1000\n",
            "131/131 - 1s - loss: 6.1596e-05 - acc: 1.0000 - val_loss: 0.0529 - val_acc: 0.9871 - 1s/epoch - 8ms/step\n",
            "Epoch 31/1000\n",
            "131/131 - 1s - loss: 5.5138e-05 - acc: 1.0000 - val_loss: 0.0547 - val_acc: 0.9871 - 1s/epoch - 8ms/step\n",
            "Epoch 32/1000\n",
            "131/131 - 1s - loss: 5.0367e-05 - acc: 1.0000 - val_loss: 0.0547 - val_acc: 0.9871 - 1s/epoch - 9ms/step\n",
            "Epoch 33/1000\n",
            "131/131 - 1s - loss: 4.5805e-05 - acc: 1.0000 - val_loss: 0.0541 - val_acc: 0.9871 - 1s/epoch - 8ms/step\n",
            "Epoch 34/1000\n",
            "131/131 - 1s - loss: 4.1784e-05 - acc: 1.0000 - val_loss: 0.0555 - val_acc: 0.9871 - 980ms/epoch - 7ms/step\n",
            "Epoch 35/1000\n",
            "131/131 - 1s - loss: 3.7760e-05 - acc: 1.0000 - val_loss: 0.0564 - val_acc: 0.9864 - 1s/epoch - 8ms/step\n",
            "Epoch 36/1000\n",
            "131/131 - 1s - loss: 3.4652e-05 - acc: 1.0000 - val_loss: 0.0563 - val_acc: 0.9871 - 1s/epoch - 11ms/step\n",
            "Epoch 37/1000\n",
            "Restoring model weights from the end of the best epoch: 12.\n",
            "131/131 - 1s - loss: 3.1557e-05 - acc: 1.0000 - val_loss: 0.0570 - val_acc: 0.9871 - 1s/epoch - 8ms/step\n",
            "Epoch 37: early stopping\n"
          ]
        },
        {
          "output_type": "execute_result",
          "data": {
            "text/plain": [
              "<keras.callbacks.History at 0x7f5421192c10>"
            ]
          },
          "metadata": {},
          "execution_count": 57
        }
      ]
    },
    {
      "cell_type": "code",
      "source": [
        "def pred_msg(pred_text):\n",
        "  class_dict = {\n",
        "      0 : HAM,\n",
        "      1 : SPAM,\n",
        "  }\n",
        "\n",
        "  encoded_msg = [one_hot(pred_text, VOC_SIZE)]\n",
        "  padded_msg = pad_sequences(encoded_msg, maxlen=MAX_LEN, padding='post')\n",
        "  pred = [model.predict(padded_msg)[0][0], class_dict[np.round(model.predict(padded_msg)[0][0])]]\n",
        "  return pred\n",
        "\n",
        "pred_text = \"how are you doing today?\"\n",
        "\n",
        "prediction = pred_msg(pred_text)\n",
        "print(prediction)"
      ],
      "metadata": {
        "colab": {
          "base_uri": "https://localhost:8080/"
        },
        "id": "QKV460sowWsv",
        "outputId": "31039611-8ca7-4be3-ab9e-8c44b365e6c2"
      },
      "execution_count": null,
      "outputs": [
        {
          "output_type": "stream",
          "name": "stdout",
          "text": [
            "1/1 [==============================] - 0s 85ms/step\n",
            "1/1 [==============================] - 0s 15ms/step\n",
            "[7.777649e-05, 'ham']\n"
          ]
        }
      ]
    },
    {
      "cell_type": "code",
      "source": [
        "def test_pred():\n",
        "  test_msg = [\"how are you doing today\",\n",
        "                   \"sale today! to stop texts call 98912460324\",\n",
        "                   \"i dont want to go. can we try it a different day? available sat\",\n",
        "                   \"our new mobile video service is live. just install on your phone to start watching.\",\n",
        "                   \"you have won £1000 cash! call to claim your prize.\",\n",
        "                   \"i'll bring it tomorrow. don't forget the milk.\",\n",
        "                   \"wow, is your arm alright. that happened to me one time too\"\n",
        "                  ]\n",
        "\n",
        "  test_answers = [\"ham\", \"spam\", \"ham\", \"spam\", \"spam\", \"ham\", \"ham\"]\n",
        "  passed = True\n",
        "\n",
        "  for msg, answer in zip(test_msg, test_answers):\n",
        "    pred = pred_msg(msg)\n",
        "\n",
        "    if prediction[1] != answer:\n",
        "      passed = False\n",
        "\n",
        "  if passed:\n",
        "    print(\"Passed\")\n",
        "  else:\n",
        "    print(\"Not passed\")\n",
        "\n",
        "test_pred()\n"
      ],
      "metadata": {
        "colab": {
          "base_uri": "https://localhost:8080/"
        },
        "id": "IxuxIGZExIei",
        "outputId": "0607f5c8-d415-4248-96b8-10ba53b0ee0b"
      },
      "execution_count": null,
      "outputs": [
        {
          "output_type": "stream",
          "name": "stdout",
          "text": [
            "1/1 [==============================] - 0s 15ms/step\n",
            "1/1 [==============================] - 0s 16ms/step\n",
            "1/1 [==============================] - 0s 14ms/step\n",
            "1/1 [==============================] - 0s 14ms/step\n",
            "1/1 [==============================] - 0s 14ms/step\n",
            "1/1 [==============================] - 0s 14ms/step\n",
            "1/1 [==============================] - 0s 15ms/step\n",
            "1/1 [==============================] - 0s 16ms/step\n",
            "1/1 [==============================] - 0s 19ms/step\n",
            "1/1 [==============================] - 0s 16ms/step\n",
            "1/1 [==============================] - 0s 19ms/step\n",
            "1/1 [==============================] - 0s 14ms/step\n",
            "1/1 [==============================] - 0s 15ms/step\n",
            "1/1 [==============================] - 0s 14ms/step\n",
            "Not passed\n"
          ]
        }
      ]
    }
  ]
}